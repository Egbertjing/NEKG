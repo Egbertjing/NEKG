{
 "cells": [
  {
   "cell_type": "markdown",
   "metadata": {},
   "source": [
    "### This notebook presents how to obtain number embeddings with NEKG."
   ]
  },
  {
   "cell_type": "markdown",
   "metadata": {},
   "source": [
    "<ul>\n",
    "    <li> In <b>Section 3.1</b>, we construct the knowledge, generating 200 triples (e.g., ['0','isLessThan', '50'], ['100','isLessThan', '150'], etc.).</li><br>\n",
    "    <li>In <b>Section 3.2</b>, we embed the graph in a 100-D vector space using a standard graph embedding method TransE. We visualize the embedding vectors using t-SNE in a 2-D space.</li><br>\n",
    "    <li>In <b>Section 3.3</b>, we embed the integers from 500 to 1000 (i.e., [500, 1000)) using the interpolation method and visualize the embedding vectors using t-SNE in a 2-D space.</li>\n",
    "</ul>\n",
    "\n",
    "\n"
   ]
  },
  {
   "cell_type": "code",
   "execution_count": 1,
   "metadata": {},
   "outputs": [],
   "source": [
    "%matplotlib inline\n",
    "import numpy as np\n",
    "import pandas as pd\n",
    "import ampligraph\n",
    "from ampligraph.latent_features import TransE\n",
    "import matplotlib.pyplot as plt\n",
    "from sklearn.manifold import TSNE"
   ]
  },
  {
   "cell_type": "markdown",
   "metadata": {},
   "source": [
    "<b>VERSION:</b>\n",
    "<ul>\n",
    "    <li>python 3.7.3</li>\n",
    "    <li>tensorflow 1.15.0</li>\n",
    "    <li>numpy 1.19.5</li>\n",
    "    <li>ampligraph 1.3.2</li>\n",
    "    <li>pandas 0.24.1</li>\n",
    "    <li>sklearn 0.21.2</li>\n",
    "    <li>matplotlib 3.4.2</li>\n",
    "</ul>"
   ]
  },
  {
   "cell_type": "markdown",
   "metadata": {},
   "source": [
    "### 3.1 Knowledge Graph Construction"
   ]
  },
  {
   "cell_type": "code",
   "execution_count": 2,
   "metadata": {},
   "outputs": [],
   "source": [
    "# Knowledge Graph Construction.\n",
    "def graph_construction(start, stop, step):\n",
    "    kg = pd.DataFrame()\n",
    "    kg['h'] = [i for i in np.arange(start, stop, step)]\n",
    "    kg['r'] = ['isLessThan'] * int((stop-start) / step)\n",
    "    kg['t'] = [i for i in np.arange(step, stop+1, step)]\n",
    "    kg[\"h\"] = kg.h.values.astype(str)\n",
    "    kg[\"t\"] = kg.t.values.astype(str)\n",
    "    return kg"
   ]
  },
  {
   "cell_type": "code",
   "execution_count": 3,
   "metadata": {},
   "outputs": [
    {
     "data": {
      "text/html": [
       "<div>\n",
       "<style scoped>\n",
       "    .dataframe tbody tr th:only-of-type {\n",
       "        vertical-align: middle;\n",
       "    }\n",
       "\n",
       "    .dataframe tbody tr th {\n",
       "        vertical-align: top;\n",
       "    }\n",
       "\n",
       "    .dataframe thead th {\n",
       "        text-align: right;\n",
       "    }\n",
       "</style>\n",
       "<table border=\"1\" class=\"dataframe\">\n",
       "  <thead>\n",
       "    <tr style=\"text-align: right;\">\n",
       "      <th></th>\n",
       "      <th>h</th>\n",
       "      <th>r</th>\n",
       "      <th>t</th>\n",
       "    </tr>\n",
       "  </thead>\n",
       "  <tbody>\n",
       "    <tr>\n",
       "      <th>0</th>\n",
       "      <td>0</td>\n",
       "      <td>isLessThan</td>\n",
       "      <td>50</td>\n",
       "    </tr>\n",
       "    <tr>\n",
       "      <th>1</th>\n",
       "      <td>50</td>\n",
       "      <td>isLessThan</td>\n",
       "      <td>100</td>\n",
       "    </tr>\n",
       "    <tr>\n",
       "      <th>2</th>\n",
       "      <td>100</td>\n",
       "      <td>isLessThan</td>\n",
       "      <td>150</td>\n",
       "    </tr>\n",
       "    <tr>\n",
       "      <th>3</th>\n",
       "      <td>150</td>\n",
       "      <td>isLessThan</td>\n",
       "      <td>200</td>\n",
       "    </tr>\n",
       "    <tr>\n",
       "      <th>4</th>\n",
       "      <td>200</td>\n",
       "      <td>isLessThan</td>\n",
       "      <td>250</td>\n",
       "    </tr>\n",
       "  </tbody>\n",
       "</table>\n",
       "</div>"
      ],
      "text/plain": [
       "     h           r    t\n",
       "0    0  isLessThan   50\n",
       "1   50  isLessThan  100\n",
       "2  100  isLessThan  150\n",
       "3  150  isLessThan  200\n",
       "4  200  isLessThan  250"
      ]
     },
     "execution_count": 3,
     "metadata": {},
     "output_type": "execute_result"
    }
   ],
   "source": [
    "start = 0\n",
    "stop = 10000\n",
    "step = 50\n",
    "kg_df = graph_construction(start, stop, step)\n",
    "kg_df.head()"
   ]
  },
  {
   "cell_type": "markdown",
   "metadata": {},
   "source": [
    "### 3.2 Knowledge Graph Embedding"
   ]
  },
  {
   "cell_type": "code",
   "execution_count": 4,
   "metadata": {},
   "outputs": [
    {
     "name": "stderr",
     "output_type": "stream",
     "text": [
      "2022-10-28 18:34:09.308464: I tensorflow/core/platform/cpu_feature_guard.cc:142] Your CPU supports instructions that this TensorFlow binary was not compiled to use: AVX2 FMA\n",
      "2022-10-28 18:34:09.327525: I tensorflow/core/platform/profile_utils/cpu_utils.cc:94] CPU Frequency: 2591995000 Hz\n",
      "2022-10-28 18:34:09.329265: I tensorflow/compiler/xla/service/service.cc:168] XLA service 0x55ba9c5d7390 initialized for platform Host (this does not guarantee that XLA will be used). Devices:\n",
      "2022-10-28 18:34:09.329319: I tensorflow/compiler/xla/service/service.cc:176]   StreamExecutor device (0): Host, Default Version\n",
      "2022-10-28 18:34:09.333391: I tensorflow/stream_executor/platform/default/dso_loader.cc:44] Successfully opened dynamic library libcuda.so.1\n",
      "2022-10-28 18:34:10.200557: E tensorflow/stream_executor/cuda/cuda_gpu_executor.cc:969] could not open file to read NUMA node: /sys/bus/pci/devices/0000:01:00.0/numa_node\n",
      "Your kernel may have been built without NUMA support.\n",
      "2022-10-28 18:34:10.200720: I tensorflow/compiler/xla/service/service.cc:168] XLA service 0x55ba9c4da4b0 initialized for platform CUDA (this does not guarantee that XLA will be used). Devices:\n",
      "2022-10-28 18:34:10.200735: I tensorflow/compiler/xla/service/service.cc:176]   StreamExecutor device (0): NVIDIA GeForce GTX 1660 Ti, Compute Capability 7.5\n",
      "2022-10-28 18:34:10.202448: E tensorflow/stream_executor/cuda/cuda_gpu_executor.cc:969] could not open file to read NUMA node: /sys/bus/pci/devices/0000:01:00.0/numa_node\n",
      "Your kernel may have been built without NUMA support.\n",
      "2022-10-28 18:34:10.202497: I tensorflow/core/common_runtime/gpu/gpu_device.cc:1618] Found device 0 with properties: \n",
      "name: NVIDIA GeForce GTX 1660 Ti major: 7 minor: 5 memoryClockRate(GHz): 1.59\n",
      "pciBusID: 0000:01:00.0\n",
      "2022-10-28 18:34:10.202644: W tensorflow/stream_executor/platform/default/dso_loader.cc:55] Could not load dynamic library 'libcudart.so.10.0'; dlerror: libcudart.so.10.0: cannot open shared object file: No such file or directory; LD_LIBRARY_PATH: :/usr/local/cuda-11.8/lib64\n",
      "2022-10-28 18:34:10.202751: W tensorflow/stream_executor/platform/default/dso_loader.cc:55] Could not load dynamic library 'libcublas.so.10.0'; dlerror: libcublas.so.10.0: cannot open shared object file: No such file or directory; LD_LIBRARY_PATH: :/usr/local/cuda-11.8/lib64\n",
      "2022-10-28 18:34:10.202848: W tensorflow/stream_executor/platform/default/dso_loader.cc:55] Could not load dynamic library 'libcufft.so.10.0'; dlerror: libcufft.so.10.0: cannot open shared object file: No such file or directory; LD_LIBRARY_PATH: :/usr/local/cuda-11.8/lib64\n",
      "2022-10-28 18:34:10.202966: W tensorflow/stream_executor/platform/default/dso_loader.cc:55] Could not load dynamic library 'libcurand.so.10.0'; dlerror: libcurand.so.10.0: cannot open shared object file: No such file or directory; LD_LIBRARY_PATH: :/usr/local/cuda-11.8/lib64\n",
      "2022-10-28 18:34:10.203066: W tensorflow/stream_executor/platform/default/dso_loader.cc:55] Could not load dynamic library 'libcusolver.so.10.0'; dlerror: libcusolver.so.10.0: cannot open shared object file: No such file or directory; LD_LIBRARY_PATH: :/usr/local/cuda-11.8/lib64\n",
      "2022-10-28 18:34:10.203162: W tensorflow/stream_executor/platform/default/dso_loader.cc:55] Could not load dynamic library 'libcusparse.so.10.0'; dlerror: libcusparse.so.10.0: cannot open shared object file: No such file or directory; LD_LIBRARY_PATH: :/usr/local/cuda-11.8/lib64\n",
      "2022-10-28 18:34:10.203258: W tensorflow/stream_executor/platform/default/dso_loader.cc:55] Could not load dynamic library 'libcudnn.so.7'; dlerror: libcudnn.so.7: cannot open shared object file: No such file or directory; LD_LIBRARY_PATH: :/usr/local/cuda-11.8/lib64\n",
      "2022-10-28 18:34:10.203285: W tensorflow/core/common_runtime/gpu/gpu_device.cc:1641] Cannot dlopen some GPU libraries. Please make sure the missing libraries mentioned above are installed properly if you would like to use GPU. Follow the guide at https://www.tensorflow.org/install/gpu for how to download and setup the required libraries for your platform.\n",
      "Skipping registering GPU devices...\n",
      "2022-10-28 18:34:10.203302: I tensorflow/core/common_runtime/gpu/gpu_device.cc:1159] Device interconnect StreamExecutor with strength 1 edge matrix:\n",
      "2022-10-28 18:34:10.203307: I tensorflow/core/common_runtime/gpu/gpu_device.cc:1165]      0 \n",
      "2022-10-28 18:34:10.203310: I tensorflow/core/common_runtime/gpu/gpu_device.cc:1178] 0:   N \n",
      "Average Loss:   1.028841: 100%|██████████| 200/200 [00:17<00:00, 11.60epoch/s]\n"
     ]
    }
   ],
   "source": [
    "kg_array = kg_df.to_numpy().astype(str)\n",
    "model = TransE(epochs=200, k=100, verbose=True)\n",
    "model.fit(kg_array)"
   ]
  },
  {
   "cell_type": "code",
   "execution_count": 5,
   "metadata": {},
   "outputs": [
    {
     "data": {
      "text/plain": [
       "array([-0.03690041, -0.03287071,  0.05134401, -0.01771941,  0.04342166,\n",
       "       -0.05211408, -0.08942881, -0.0186477 , -0.05014663,  0.01615518,\n",
       "       -0.03333031, -0.04597895,  0.01716471, -0.05109926,  0.05432875,\n",
       "        0.06445452, -0.00803256, -0.05557336, -0.02790391, -0.05393754,\n",
       "       -0.00147981,  0.04416272, -0.02012426, -0.03722629, -0.0642583 ,\n",
       "       -0.03273066,  0.09693471,  0.03440669,  0.04950272, -0.05960407,\n",
       "       -0.02108212, -0.05511141,  0.03969104,  0.00396161,  0.02126307,\n",
       "       -0.06347461,  0.01426665, -0.00194556, -0.05621431, -0.0432833 ,\n",
       "        0.03294984,  0.04644944,  0.01930415, -0.00339828, -0.00360486,\n",
       "        0.01037453,  0.02973313, -0.06000857,  0.05025435, -0.04011907,\n",
       "       -0.03234567,  0.01951869, -0.02515221,  0.03880295,  0.00082654,\n",
       "       -0.07140546,  0.03531972, -0.03721511, -0.02972727,  0.0362316 ,\n",
       "       -0.03237683, -0.09696919,  0.02934492, -0.02307719, -0.00078179,\n",
       "       -0.02885424, -0.03489061, -0.04629858,  0.02990286,  0.0827543 ,\n",
       "       -0.03322028, -0.02959136, -0.0352878 , -0.02343961, -0.04884133,\n",
       "       -0.04535799,  0.01884266,  0.02593892, -0.00204024, -0.02288489,\n",
       "        0.02297834,  0.00911109, -0.01938075,  0.0828224 , -0.04668536,\n",
       "       -0.0203277 , -0.07432892,  0.00313859,  0.05779765,  0.05966713,\n",
       "        0.01471517, -0.07644557,  0.07482845, -0.006468  ,  0.01583655,\n",
       "        0.09017783, -0.01506764, -0.00763915,  0.04517823,  0.04093755],\n",
       "      dtype=float32)"
      ]
     },
     "execution_count": 5,
     "metadata": {},
     "output_type": "execute_result"
    }
   ],
   "source": [
    "# Obtain the embedding vector of 100.\n",
    "embedding = model.get_embeddings(entities='100', embedding_type='entity')\n",
    "embedding"
   ]
  },
  {
   "cell_type": "code",
   "execution_count": 6,
   "metadata": {},
   "outputs": [
    {
     "name": "stderr",
     "output_type": "stream",
     "text": [
      "/home/egbert_jing/anaconda3/envs/4222G18/lib/python3.7/site-packages/sklearn/neighbors/base.py:441: DeprecationWarning: distutils Version classes are deprecated. Use packaging.version instead.\n",
      "  old_joblib = LooseVersion(joblib_version) < LooseVersion('0.12')\n",
      "/home/egbert_jing/anaconda3/envs/4222G18/lib/python3.7/site-packages/sklearn/neighbors/base.py:441: DeprecationWarning: distutils Version classes are deprecated. Use packaging.version instead.\n",
      "  old_joblib = LooseVersion(joblib_version) < LooseVersion('0.12')\n"
     ]
    },
    {
     "data": {
      "text/html": [
       "<div>\n",
       "<style scoped>\n",
       "    .dataframe tbody tr th:only-of-type {\n",
       "        vertical-align: middle;\n",
       "    }\n",
       "\n",
       "    .dataframe tbody tr th {\n",
       "        vertical-align: top;\n",
       "    }\n",
       "\n",
       "    .dataframe thead th {\n",
       "        text-align: right;\n",
       "    }\n",
       "</style>\n",
       "<table border=\"1\" class=\"dataframe\">\n",
       "  <thead>\n",
       "    <tr style=\"text-align: right;\">\n",
       "      <th></th>\n",
       "      <th>tSNE_1</th>\n",
       "      <th>tSNE_2</th>\n",
       "      <th>magnitude</th>\n",
       "    </tr>\n",
       "  </thead>\n",
       "  <tbody>\n",
       "    <tr>\n",
       "      <th>0</th>\n",
       "      <td>2.305861</td>\n",
       "      <td>-15.888333</td>\n",
       "      <td>0</td>\n",
       "    </tr>\n",
       "    <tr>\n",
       "      <th>1</th>\n",
       "      <td>2.398314</td>\n",
       "      <td>-15.896873</td>\n",
       "      <td>50</td>\n",
       "    </tr>\n",
       "    <tr>\n",
       "      <th>2</th>\n",
       "      <td>2.354460</td>\n",
       "      <td>-15.692477</td>\n",
       "      <td>100</td>\n",
       "    </tr>\n",
       "    <tr>\n",
       "      <th>3</th>\n",
       "      <td>2.653796</td>\n",
       "      <td>-15.871662</td>\n",
       "      <td>150</td>\n",
       "    </tr>\n",
       "    <tr>\n",
       "      <th>4</th>\n",
       "      <td>2.445663</td>\n",
       "      <td>-15.456343</td>\n",
       "      <td>200</td>\n",
       "    </tr>\n",
       "  </tbody>\n",
       "</table>\n",
       "</div>"
      ],
      "text/plain": [
       "     tSNE_1     tSNE_2  magnitude\n",
       "0  2.305861 -15.888333          0\n",
       "1  2.398314 -15.896873         50\n",
       "2  2.354460 -15.692477        100\n",
       "3  2.653796 -15.871662        150\n",
       "4  2.445663 -15.456343        200"
      ]
     },
     "execution_count": 6,
     "metadata": {},
     "output_type": "execute_result"
    }
   ],
   "source": [
    "# Dimensionality reduction using t-SNE.\n",
    "embeddings = model.get_embeddings(entities=[str(j) for j in np.arange(start, stop+1, step)], embedding_type='entity')\n",
    "embeddings = np.asarray(embeddings, dtype='float64')\n",
    "embeddings_tSNE = TSNE(n_components=2).fit_transform(embeddings)\n",
    "embeddings_tSNE = pd.DataFrame(embeddings_tSNE, columns=['tSNE_1', 'tSNE_2'])\n",
    "embeddings_tSNE['magnitude'] = [i for i in range(start, stop+1, step)]\n",
    "embeddings_tSNE.head()"
   ]
  },
  {
   "cell_type": "code",
   "execution_count": 7,
   "metadata": {},
   "outputs": [
    {
     "data": {
      "image/png": "[encoded data removed]",
      "text/plain": [
       "<Figure size 640x480 with 1 Axes>"
      ]
     },
     "metadata": {},
     "output_type": "display_data"
    }
   ],
   "source": [
    "# Visualize the embedding vectors in 2-D space.\n",
    "plt.scatter(embeddings_tSNE.tSNE_1, embeddings_tSNE.tSNE_2, c=embeddings_tSNE.magnitude, s=10)\n",
    "plt.title('2-D t-SNE Visualization of 200 Integers’ Embedding Vectors')\n",
    "plt.xlabel('tSNE_1')\n",
    "plt.ylabel('tSNE_2')\n",
    "plt.show()"
   ]
  },
  {
   "cell_type": "markdown",
   "metadata": {},
   "source": [
    "### 3.3 Interpolation Method"
   ]
  },
  {
   "cell_type": "code",
   "execution_count": 8,
   "metadata": {},
   "outputs": [],
   "source": [
    "# Measure the similarity between numbers.\n",
    "def cal_sim(x1, x2, x3):\n",
    "    return (x2-x1)/(x3-x1)"
   ]
  },
  {
   "cell_type": "code",
   "execution_count": 9,
   "metadata": {},
   "outputs": [],
   "source": [
    "# Obtain embedding vectors for OOVs.\n",
    "OOVs = range(500, 1000)\n",
    "OOV_embeddings = []\n",
    "for i in OOVs:\n",
    "    for j in np.arange(start, stop+1, step):\n",
    "        if i < j:\n",
    "            upper = j\n",
    "            lower = j-step\n",
    "            e1 = model.get_embeddings(str(lower), embedding_type='entity')\n",
    "            e2 = model.get_embeddings(str(upper), embedding_type='entity')\n",
    "            s2 = cal_sim(lower, i, upper)\n",
    "            s1 = 1-s2            \n",
    "            OOV_embeddings.append(e1 * s1 + e2 * s2)\n",
    "            break"
   ]
  },
  {
   "cell_type": "code",
   "execution_count": 10,
   "metadata": {},
   "outputs": [
    {
     "data": {
      "text/html": [
       "<div>\n",
       "<style scoped>\n",
       "    .dataframe tbody tr th:only-of-type {\n",
       "        vertical-align: middle;\n",
       "    }\n",
       "\n",
       "    .dataframe tbody tr th {\n",
       "        vertical-align: top;\n",
       "    }\n",
       "\n",
       "    .dataframe thead th {\n",
       "        text-align: right;\n",
       "    }\n",
       "</style>\n",
       "<table border=\"1\" class=\"dataframe\">\n",
       "  <thead>\n",
       "    <tr style=\"text-align: right;\">\n",
       "      <th></th>\n",
       "      <th>tSNE_1</th>\n",
       "      <th>tSNE_2</th>\n",
       "      <th>magnitude</th>\n",
       "    </tr>\n",
       "  </thead>\n",
       "  <tbody>\n",
       "    <tr>\n",
       "      <th>0</th>\n",
       "      <td>-30.995590</td>\n",
       "      <td>2.480355</td>\n",
       "      <td>500</td>\n",
       "    </tr>\n",
       "    <tr>\n",
       "      <th>1</th>\n",
       "      <td>-30.851843</td>\n",
       "      <td>2.485485</td>\n",
       "      <td>501</td>\n",
       "    </tr>\n",
       "    <tr>\n",
       "      <th>2</th>\n",
       "      <td>-31.154890</td>\n",
       "      <td>2.784283</td>\n",
       "      <td>502</td>\n",
       "    </tr>\n",
       "    <tr>\n",
       "      <th>3</th>\n",
       "      <td>-31.151619</td>\n",
       "      <td>2.900439</td>\n",
       "      <td>503</td>\n",
       "    </tr>\n",
       "    <tr>\n",
       "      <th>4</th>\n",
       "      <td>-30.544378</td>\n",
       "      <td>2.652500</td>\n",
       "      <td>504</td>\n",
       "    </tr>\n",
       "  </tbody>\n",
       "</table>\n",
       "</div>"
      ],
      "text/plain": [
       "      tSNE_1    tSNE_2  magnitude\n",
       "0 -30.995590  2.480355        500\n",
       "1 -30.851843  2.485485        501\n",
       "2 -31.154890  2.784283        502\n",
       "3 -31.151619  2.900439        503\n",
       "4 -30.544378  2.652500        504"
      ]
     },
     "execution_count": 10,
     "metadata": {},
     "output_type": "execute_result"
    }
   ],
   "source": [
    "# Dimensionality reduction using t-SNE.\n",
    "OOV_embeddings = np.asarray(OOV_embeddings, dtype='float64')\n",
    "OOV_embeddings_tSNE = TSNE(n_components=2).fit_transform(OOV_embeddings)\n",
    "OOV_embeddings_tSNE = pd.DataFrame(OOV_embeddings_tSNE, columns=['tSNE_1', 'tSNE_2'])\n",
    "OOV_embeddings_tSNE['magnitude'] = OOVs\n",
    "OOV_embeddings_tSNE.head()"
   ]
  },
  {
   "cell_type": "code",
   "execution_count": 11,
   "metadata": {},
   "outputs": [
    {
     "data": {
      "image/png": "[encoded data removed]",
      "text/plain": [
       "<Figure size 432x288 with 1 Axes>"
      ]
     },
     "metadata": {
      "needs_background": "light"
     },
     "output_type": "display_data"
    }
   ],
   "source": [
    "# Visualize the embedding vectors of OOVs in 2-D space.\n",
    "plt.scatter(OOV_embeddings_tSNE.tSNE_1, OOV_embeddings_tSNE.tSNE_2, c=OOV_embeddings_tSNE.magnitude, s=5)\n",
    "plt.title('2-D t-SNE Visualization of OOVs\\' Embedding Vectors')\n",
    "plt.xlabel('tSNE_1')\n",
    "plt.ylabel('tSNE_2')\n",
    "plt.show()"
   ]
  }
 ],
 "metadata": {
  "kernelspec": {
   "display_name": "Python 3.7.3 ('4222G18')",
   "language": "python",
   "name": "python3"
  },
  "language_info": {
   "codemirror_mode": {
    "name": "ipython",
    "version": 3
   },
   "file_extension": ".py",
   "mimetype": "text/x-python",
   "name": "python",
   "nbconvert_exporter": "python",
   "pygments_lexer": "ipython3",
   "version": "3.7.3"
  },
  "vscode": {
   "interpreter": {
    "hash": "7e1fb3ba83006f1cb45b39d6187e98516fc498271af873551d97b45d9cc23f87"
   }
  }
 },
 "nbformat": 4,
 "nbformat_minor": 4
}
